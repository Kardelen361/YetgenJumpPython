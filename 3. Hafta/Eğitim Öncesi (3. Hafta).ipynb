{
  "cells": [
    {
      "cell_type": "markdown",
      "metadata": {
        "id": "tsD4YVAe_Te2"
      },
      "source": [
        "# Problem 1\n",
        "Bir sayının 7'ye bölünebilir olup olmadığını kontrol etmek \n",
        "için bir program yazın.\n",
        "\n",
        "İpucu: Mod operatörünü (%) kullanabilirsiniz."
      ]
    },
    {
      "cell_type": "code",
      "execution_count": 4,
      "metadata": {
        "id": "NGjvNwKx_Te7"
      },
      "outputs": [
        {
          "name": "stdout",
          "output_type": "stream",
          "text": [
            " 69 sayısı 7'ye tam bölünemez. \n"
          ]
        }
      ],
      "source": [
        "# 1.Problemin Çözümünü Buraya Yazınız\n",
        "sayi = int(input(\"Lütfen bir sayı giriniz:\"))\n",
        "if sayi % 7 == 0:\n",
        "    print(f\" {sayi} sayısı 7'ye tam bölünür. \")\n",
        "else:\n",
        "    print(f\" {sayi} sayısı 7'ye tam bölünemez. \")    "
      ]
    },
    {
      "cell_type": "markdown",
      "metadata": {
        "id": "Kg3qiBAI_Te8"
      },
      "source": [
        "# Problem 2\n",
        "Kullanıcıdan vize ve final notu isteyin. Girilen vize notunun %40’ı ve \n",
        "girilen finalnotunun ise %60’ı alınarak yıl sonu not ortalaması hesaplanacaktır. \n",
        "\n",
        "Bu not ortalaması eğer 85 ve üzeri ise AA, \n",
        "\n",
        "75 ve 85 arasında ise BA, \n",
        "\n",
        "70 ve 75 arasında ise BB, \n",
        "\n",
        "65 ve 70 arasında ise CB,\n",
        "\n",
        "60 ve 65 arasında ise CC,\n",
        "\n",
        "55 ve 60 arasında ise DC,\n",
        "\n",
        "50 ve 55 arasında ise DD olarak hesaplanacaktır. \n",
        "\n",
        "Bu öğrencinin yıl sonu toplam notu 50’nin altında ise FF ile dersten kalacaktır. \n",
        "\n",
        "Ayrıca öğrencinin final notu 50’nin altında ise direkt FF ile kalacaktır."
      ]
    },
    {
      "cell_type": "code",
      "execution_count": 5,
      "metadata": {
        "id": "MXTtCxI1_Te8"
      },
      "outputs": [
        {
          "name": "stdout",
          "output_type": "stream",
          "text": [
            "Harf notunuz FF'dir. Dersten kaldınız.\n"
          ]
        }
      ],
      "source": [
        "# 2.Problemin Çözümünü Buraya Yazınız\n",
        "vizeNotu = int(input(\"Lütfen vize notunuzu giriniz:\"))\n",
        "finalNotu = int(input(\"Lütfen final notunuzu giriniz:\"))\n",
        "notOrtalamasi = (vizeNotu * 40)/100 + (finalNotu * 60)/100\n",
        "if notOrtalamasi >= 85:\n",
        "    print(\"Harf notunuz AA'dır.\")\n",
        "elif notOrtalamasi > 75 and notOrtalamasi < 85:\n",
        "    print(\"Harf notunuz BA'dır.\")\n",
        "elif notOrtalamasi > 70 and notOrtalamasi < 75:\n",
        "    print(\"Harf notunuz BB'dir.\")\n",
        "elif notOrtalamasi > 65 and notOrtalamasi < 70:\n",
        "    print(\"Harf notunuz CB'dir.\") \n",
        "elif notOrtalamasi > 60 and notOrtalamasi < 65:\n",
        "    print(\"Harf notunuz CC'dir.\") \n",
        "elif notOrtalamasi > 55 and notOrtalamasi < 60:\n",
        "    print(\"Harf notunuz DC'dir.\") \n",
        "elif notOrtalamasi > 50 and notOrtalamasi < 55:\n",
        "    print(\"Harf notunuz DD'dir.\") \n",
        "elif notOrtalamasi < 50 and finalNotu < 50:\n",
        "    print(\"Harf notunuz FF'dir. Dersten kaldınız.\") "
      ]
    },
    {
      "cell_type": "markdown",
      "metadata": {
        "id": "tAoRYCTC_Te8"
      },
      "source": [
        "# Problem 3\n",
        "İki YetGenli Zirve'de karşılaşıyorlar. Birbirlerini tanımak için sorular soruyorlar. Birbirlerine yaşlarını soruyorlar. Akıllarına bir Python programı yazıp, yaşlarını ve isimlerini giriyorlar. Büyük olanın yaşını ekrana yazdıran programı yazıyorlar. Sende bu iki YetGenli'ye destek olmak ister misin?\n",
        "\n",
        "```\n",
        "Birinci YetGenlinin ismi: Ahmet\n",
        "Birinci YetGenlinin yaşı : 20\n",
        "İkinci YetGenlinin ismi: Mehmet\n",
        "İkinci YetGenlinin yaşı : 25\n",
        "Mehmet'in yaşı daha büyük ve yaşı 25'tir.\n",
        "```"
      ]
    },
    {
      "cell_type": "code",
      "execution_count": 3,
      "metadata": {
        "id": "bPjE8W0i_Te8"
      },
      "outputs": [
        {
          "name": "stdout",
          "output_type": "stream",
          "text": [
            "Kardelen'in yaşı daha büyük ve yaşı 23'tır.\n"
          ]
        }
      ],
      "source": [
        "# 3.Problemin Çözümünü Buraya Yazınız\n",
        "YetGenli1 = input(\"Lütfen isminizi giriniz:\")\n",
        "YetGenli2 = input(\"Lütfen isminizi giriniz:\")\n",
        "YetGenli1yas = int(input(\"Lütfen yaşınızı giriniz:\"))\n",
        "YetGenli2yas = int(input(\"Lütfen yaşınızı giriniz:\"))\n",
        "if YetGenli1yas > YetGenli2yas:\n",
        "    print(f\"{YetGenli1}'in yaşı daha büyük ve yaşı {YetGenli1yas}'tır.\")\n",
        "else:\n",
        "    print(f\"{YetGenli2}'in yaşı daha büyük ve yaşı {YetGenli2yas}'tır.\")"
      ]
    },
    {
      "cell_type": "markdown",
      "metadata": {
        "id": "zBVv8Tyg_Te9"
      },
      "source": [
        "# Problem 4\n",
        "Pandemi döneminde AVM'lerde ateş ölçümü yapılıyor. AVM'ye giren kişinin ateş ölçümü 37.5 derecenin altında ise girişe izin veriliyor. 37.5 derecenin üstünde ise girişe izin verilmiyor. AVM'ye girişe izin verilip verilmediğini ekrana yazdıran bir program yazın.\n",
        "\n",
        "Program sonunda şöyle bir çıktı elde etmelisiniz:\n",
        "\n",
        "```\n",
        "Ateşiniz 37.5 derece. AVM'ye girebilirsin! Maske takmayı unutma!\n",
        "Ateşiniz 37.6 derece. AVM'ye giremezsin! Hemen evine dön!\n",
        "```"
      ]
    },
    {
      "cell_type": "code",
      "execution_count": 5,
      "metadata": {
        "id": "TSAXs8et_Te9"
      },
      "outputs": [
        {
          "name": "stdout",
          "output_type": "stream",
          "text": [
            "Ateşiniz 37.5 derece. AVM'ye girebilirsin! Maske takmayı unutma!\n"
          ]
        }
      ],
      "source": [
        "# 4.Problemin Çözümünü Buraya Yazınız\n",
        "derece = float(input(\"Kişinin derecesi:\"))\n",
        "ates = 37.5\n",
        "if derece <= ates:\n",
        "    print(f\"Ateşiniz {ates} derece. AVM'ye girebilirsin! Maske takmayı unutma!\")\n",
        "else:\n",
        "     print(f\"Ateşiniz {ates} derece. AVM'ye giremezsin! Hemen evine dön!\")"
      ]
    },
    {
      "cell_type": "markdown",
      "metadata": {
        "id": "6AEkZrDt_Te9"
      },
      "source": [
        "# Problem 5\n",
        "YetGen bir spor kulübüyle sponsorluk anlaşması yapıyor. Kulüp, sponsorluk anlaşmasına göre her YetGen liderinin beden kitle indeksini hesaplamak istiyor. Spor kulübü, beden kitle indeksini hesaplamak için YetGen Jump Python liderlerinden Berkcan ve Ahmet'i arıyor. Berkcan ve Ahmet, kulübe yardımcı olmak için bir Python programı yazıyorlar. Sende bu iki YetGen liderine destek olmak ister misin?\n",
        "\n",
        "Kullanıcıdan alınan boy ve kilo değerlerine göre beden kitle indeksini hesaplayın ve şu kurallara göre ekrana şu yazıları yazdırın.\n",
        "\n",
        "\n",
        "Beden Kitle İndeksi, kişinin ağırlığının (kg olarak) boyunun karesine (m olarak) bölünmesiyle hesaplanır.\n",
        "\n",
        "\n",
        "```\n",
        " BKİ 18.5'un altındaysa -------> Zayıf\n",
        "\n",
        " BKİ 18.5 ile 25 arasındaysa ------> Normal\n",
        "\n",
        " BKİ 25 ile 30 arasındaysa --------> Fazla Kilolu\n",
        "\n",
        " BKİ 30'un üstündeyse -------------> Obez\n",
        "```\n",
        "\n"
      ]
    },
    {
      "cell_type": "code",
      "execution_count": 6,
      "metadata": {
        "id": "t-XPI_u0_Te-"
      },
      "outputs": [
        {
          "name": "stdout",
          "output_type": "stream",
          "text": [
            "Normal\n"
          ]
        }
      ],
      "source": [
        "# 5.Problemin Çözümünü Buraya Yazınız\n",
        "kilo = float(input(\"Lütfen kilonuzu giriniz:\"))\n",
        "boy = float(input(\"Lütfen boyunuzu metre cinsinden giriniz:\"))\n",
        "bki = kilo/boy**2\n",
        "if bki < 18.5:\n",
        "    print(\"Zayıf\")\n",
        "elif bki > 18.5 and bki < 25:\n",
        "    print(\"Normal\")\n",
        "elif bki > 25 and bki < 30:\n",
        "    print(\"Fazla Kilolu\")\n",
        "elif bki > 30:\n",
        "    print(\"Obez\")"
      ]
    },
    {
      "cell_type": "markdown",
      "metadata": {
        "id": "oFsvQyaO_Te-"
      },
      "source": [
        "# Problem 6\n",
        "Kullanıcıdan isim, yaş ve eğitim bilgilerini isteyip ehliyet alabilme  durumunu kontrol ediniz. \n",
        "\n",
        "Ehliyet alma koşulu en az 18 yaşında ve eğitim durumu lise ya da üniversite olmalıdır. "
      ]
    },
    {
      "cell_type": "code",
      "execution_count": 9,
      "metadata": {
        "id": "Tu2mcgco_Te-"
      },
      "outputs": [
        {
          "name": "stdout",
          "output_type": "stream",
          "text": [
            "Sayın Kardelen, ehliyet alabilirsiniz.\n"
          ]
        }
      ],
      "source": [
        "# 6.Problemin Çözümünü Buraya Yazınız\n",
        "isim = input(\"Lütfen isminizi giriniz:\")\n",
        "yas = int(input(\"Lütfen yaşınızı giriniz:\"))\n",
        "if yas >= 18:\n",
        "    egitim_durumu = int(input(\"Lütfen eğitim durumunuzun kodunu giriniz:(İlkokul:100, Ortaokul:101, Lise:102, Üniversite:103)\"))\n",
        "    if egitim_durumu == 102 or egitim_durumu == 103:\n",
        "        print(f\"Sayın {isim}, ehliyet alabilirsiniz.\")\n",
        "    else:\n",
        "            print(f\"Sayın {isim}, ehliyet almak için eğitim durumunuz yeterli değildir.\")\n",
        "else:\n",
        "    print(f\"Sayın {isim}, ehliyet almak için yaşınız uygun değildir.\")\n",
        "\n"
      ]
    },
    {
      "cell_type": "markdown",
      "metadata": {
        "id": "eUkxVSAE_Te_"
      },
      "source": [
        "# Problem 7\n",
        "Bir yılın artık yıl olup olmadığını kontrol etmek için bir program yazın. \n",
        "Artık yıl kuralı:\n",
        "\n",
        "a) Eğer yılın son iki basamağı (00) ile bitmiyor ve yalnızca 4'e tam bölünüyorsa artık yıldır. Ya da, \n",
        "\n",
        "b) Eğer yıl 400'e tam bölünüyorsa artık yıldır.\n",
        "\n",
        "**Örneğin**\n",
        "```\n",
        "2017 artık yıl değildir.\n",
        "1900 artık yıl değildir\n",
        "2012 artık yıldır.\n",
        "2000 artık yıldır.\n",
        "```"
      ]
    },
    {
      "cell_type": "code",
      "execution_count": 16,
      "metadata": {
        "id": "4uWh8qUL_Te_"
      },
      "outputs": [
        {
          "name": "stdout",
          "output_type": "stream",
          "text": [
            "2000 artık yıldır.\n"
          ]
        }
      ],
      "source": [
        "# 7.Problemin Çözümünü Buraya Yazınız\n",
        "yil = int(input(\"Lütfen bir yıl giriniz:\"))\n",
        "if yil % 4 == 0 and yil % 100 != 0:\n",
        "    print(f\"{yil} bir artık yıldır.\")\n",
        "elif yil % 400 == 0:\n",
        "    print(f\"{yil} artık yıldır.\")\n",
        "else:\n",
        "    print(f\"{yil} artık yıl değildir.\")\n"
      ]
    }
  ],
  "metadata": {
    "colab": {
      "provenance": []
    },
    "kernelspec": {
      "display_name": "Python 3.10.5 64-bit",
      "language": "python",
      "name": "python3"
    },
    "language_info": {
      "codemirror_mode": {
        "name": "ipython",
        "version": 3
      },
      "file_extension": ".py",
      "mimetype": "text/x-python",
      "name": "python",
      "nbconvert_exporter": "python",
      "pygments_lexer": "ipython3",
      "version": "3.10.0"
    },
    "orig_nbformat": 4,
    "vscode": {
      "interpreter": {
        "hash": "5026d2d6e7aaaaba093def813beadff083d8733e4a511af01735cbabd156995d"
      }
    }
  },
  "nbformat": 4,
  "nbformat_minor": 0
}
