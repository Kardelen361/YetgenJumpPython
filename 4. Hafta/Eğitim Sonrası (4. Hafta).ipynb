{
 "cells": [
  {
   "cell_type": "markdown",
   "metadata": {},
   "source": [
    "# Problem 1\n",
    "`ogrenciler` adında bir sözlük oluşturunuz. Kullanıcıdan döngü yardımıyla 3 öğrenci için veri girmesini isteyerek öğrencilerin sırasıyla okul numarası, isim, soy isim, telefon numarası ve doğum tarihi bilgilerini alınız. Aldığınız öğrenci bilgilerini yine aynı döngü yardımıyla `ogrenciler` adındaki sözlükte saklayınız. Daha sonra öğrenci bilgilerinin bulunduğu sözlük yapısını ekrana bastırınız.\n",
    "\n"
   ]
  },
  {
   "cell_type": "code",
   "execution_count": 2,
   "metadata": {},
   "outputs": [
    {
     "name": "stdout",
     "output_type": "stream",
     "text": [
      "{1: {'No': '6235647', 'İsim': 'Kardelen', 'Soy İsim': 'Akdağ', 'Telefon': '1234762789', 'Doğum Tarihi': '22.09.2001'}, 2: {'No': '327647843', 'İsim': 'Samet', 'Soy İsim': 'Yüksel', 'Telefon': '73484357', 'Doğum Tarihi': '12.03.2001'}, 3: {'No': '3048789475', 'İsim': 'Burcu', 'Soy İsim': 'Deniz', 'Telefon': '08375484', 'Doğum Tarihi': '6.08.2000'}}\n"
     ]
    }
   ],
   "source": [
    "# 1.Problemin Çözümünü Buraya Yazınız\n",
    "ogrenciler = {}\n",
    "for i in range(1,4):\n",
    "    okulNo = input(\"Lütfen okul numaranızı giriniz:\")\n",
    "    isim = input(\"Lütfen isminizi giriniz:\")\n",
    "    soyIsım = input(\"Lütfen soy isminizi giriniz:\")\n",
    "    telefon = input(\"Lütfen telefon numaranızı giriniz:\")\n",
    "    dogumTarihi = input(\"Lütfen doğum tarihinizi giriniz:\")\n",
    "    ogrenciler[i] = {\n",
    "        \"No\" : okulNo,\n",
    "        \"İsim\" : isim,\n",
    "        \"Soy İsim\" : soyIsım,\n",
    "        \"Telefon\" : telefon,\n",
    "        \"Doğum Tarihi\" : dogumTarihi\n",
    "    }\n",
    "print(ogrenciler)\n",
    "\n",
    "\n"
   ]
  },
  {
   "cell_type": "markdown",
   "metadata": {},
   "source": [
    "# Problem 2\n",
    "\n",
    "### a - Biraz ısınarak başlayalım!\n",
    "\n",
    "```\n",
    "numbers = [5,10,10,15,15,15,20,20,20,20]\n",
    "```\n",
    "\n",
    "Yukarıda `numbers` adında 10 elemanlı bir liste verilmiştir. Bu listenin her elemanını kontrol eden ve tekrar eden elemanları bir kez olacak şekilde başka bir listeye kopyalayan bir program yazınız. Son olarak oluşturduğunuz listeyi ekrana bastırınız.\n",
    "\n",
    "\n",
    "\n",
    "\n",
    "```\n",
    ">Output\n",
    "[5, 10, 15, 20]\n",
    "```\n"
   ]
  },
  {
   "cell_type": "code",
   "execution_count": 28,
   "metadata": {},
   "outputs": [
    {
     "name": "stdout",
     "output_type": "stream",
     "text": [
      "[5, 10, 15, 20]\n",
      "[5, 10, 10, 15, 15, 15, 20, 20, 20, 20]\n"
     ]
    }
   ],
   "source": [
    "# 2.Problemin a Şıkkının Çözümünü Buraya Yazınız\n",
    "numbers = [5, 10, 10, 15, 15, 15, 20, 20, 20, 20]\n",
    "unique = []\n",
    "for number in numbers:\n",
    "    if number in unique:\n",
    "        continue\n",
    "    else:\n",
    "        unique.append(number)\n",
    "print(unique)\n",
    "print(numbers)\n"
   ]
  },
  {
   "cell_type": "markdown",
   "metadata": {},
   "source": [
    "### 🌶️ b) Hadi işi biraz daha zorlaştıralım! \n",
    "\n",
    "\n",
    "Şimdiyse senden `numbers` isimli listedeki tekrar eden elemanları `repeatNumbers` adındaki listeye; tekrar etmeyen elemanları `uniqueNumbers`adındaki listeye kopyalayan yazmanı ve listeleri ekrana bastırmanı bekliyoruz\n",
    "\n",
    "```\n",
    ">Output\n",
    "Tekrar Eden Elemanlar: [10, 10, 15, 15, 15, 20, 20, 20, 20]\n",
    "Tekrar Etmeyen Elemanlar: [5]\n",
    "```"
   ]
  },
  {
   "cell_type": "code",
   "execution_count": 21,
   "metadata": {},
   "outputs": [
    {
     "name": "stdout",
     "output_type": "stream",
     "text": [
      "Tekrar Eden Elemanlar : [10, 10, 15, 15, 15, 20, 20, 20, 20]\n",
      "Tekrar Etmeyen Elemanlar : [5]\n"
     ]
    }
   ],
   "source": [
    "# 2.Problemin b Şıkkının Çözümünü Buraya Yazınız\n",
    "numbers = [5, 10, 10, 15, 15, 15, 20, 20, 20, 20]\n",
    "unique = []\n",
    "repeat = []\n",
    "for number in numbers:\n",
    "    if numbers.count(number) == 1:\n",
    "        unique.append(number)\n",
    "    else:\n",
    "        repeat.append(number)\n",
    "print(\"Tekrar Eden Elemanlar :\", repeat)\n",
    "print(\"Tekrar Etmeyen Elemanlar :\", unique)\n"
   ]
  },
  {
   "cell_type": "markdown",
   "metadata": {},
   "source": [
    "# Problem 3\n",
    "sn1 = {1,2,3,4,5}\n",
    "\n",
    "sn2 = {4,5,6,7,8}\n",
    "\n",
    " Verilen 2 adet küme için kesişimlerini, farklarını ve birleşimlerini bulunuz. "
   ]
  },
  {
   "cell_type": "code",
   "execution_count": 23,
   "metadata": {},
   "outputs": [
    {
     "name": "stdout",
     "output_type": "stream",
     "text": [
      "Kesişimleri {4, 5}\n",
      "{1, 2, 3}\n",
      "{1, 2, 3, 4, 5, 6, 7, 8}\n"
     ]
    }
   ],
   "source": [
    "# 3.Problemin Çözümünü Buraya Yazınız\n",
    "sn1 = {1,2,3,4,5}\n",
    "sn2 = {4,5,6,7,8}\n",
    "kesisim = sn1.intersection(sn2)\n",
    "print(\"Kesişimleri\", kesisim)\n",
    "\n",
    "fark1 = sn1.difference_update(sn2)\n",
    "print(sn1)\n",
    "\n",
    "birlesim = sn1.union(sn2)\n",
    "print(birlesim)\n",
    "\n",
    "\n"
   ]
  },
  {
   "cell_type": "markdown",
   "metadata": {},
   "source": [
    "# Problem 4\n",
    "\n",
    "Buradaki işlemlerimizin tamamı stringler içindir. Aşağıda verilecek olan metodlar için kendinizin örnek yaratması gerekmektedir. \n",
    "\n",
    "Örneğin `upper` için `string` değişkeni oluştururken` k = \"BAC\"` şeklinde oluşturmayınız. Bunun yerine k değişkenini `k = \"bac`\" şeklinde oluşturmanız `upper` metodundaki değişimi görebilmeniz için daha iyi olacaktır.\n",
    "\n",
    "Bütün metodlardaki değişimin gözle görülür şekilde değişimi beklenmektedir.\n",
    "\n",
    "\n",
    "1- capitalize(), lower(), upper(), swapcase(), title(), replace()\n",
    "\n",
    "2- endswith(), startswith(), find(), index(), count()\n",
    "\n",
    "3- split(), strip(), join(), islower(), isalpha(), isdigit()\n",
    "\n",
    "\n",
    "Yukarıdaki `string` metodlarındaki değişimleri görebildiğimiz bir program yazınız.\n"
   ]
  },
  {
   "cell_type": "code",
   "execution_count": 82,
   "metadata": {},
   "outputs": [
    {
     "name": "stdout",
     "output_type": "stream",
     "text": [
      "Bac\n",
      "bac\n",
      "BAC\n",
      "bAc\n",
      "Bac\n",
      "bec\n",
      "False\n",
      "True\n",
      "0\n",
      "2\n",
      "1\n",
      "['bac', 'bac']\n",
      "bac\n",
      "b*a*c*d*n*m\n",
      "True\n",
      "True\n",
      "False\n"
     ]
    }
   ],
   "source": [
    "# 4.Problemin Çözümünü Buraya Yazınız\n",
    "k = \"bac\"\n",
    "print(k.capitalize())\n",
    "k = \"BAC\"\n",
    "print(k.lower())\n",
    "k = \"bac\"\n",
    "print(k.upper())\n",
    "k = \"BaC\"\n",
    "print(k.swapcase())\n",
    "k = \"bac\"\n",
    "print(k.title())\n",
    "k = \"bac\"\n",
    "print(k.replace(\"a\",\"e\"))\n",
    "k = \"bac\"\n",
    "print(k.endswith(\"a\"))\n",
    "k = \"bac\"\n",
    "print(k.startswith(\"b\"))\n",
    "k = \"bac\"\n",
    "print(k.find(\"b\"))\n",
    "k = \"bac\"\n",
    "print(k.index(\"c\"))\n",
    "k = \"bac\"\n",
    "print(k.count(\"c\"))\n",
    "k = \"bac*bac\"\n",
    "print(k.split(\"*\"))\n",
    "k = \"   bac   \"\n",
    "print(k.strip())\n",
    "k = \"bacdnm\"\n",
    "l = \"*\"\n",
    "print(l.join(k))\n",
    "k = \"bac\"\n",
    "print(k.islower())\n",
    "k = \"bac\"\n",
    "print(k.isalpha())\n",
    "k = \"bac\"\n",
    "print(k.isdigit())\n",
    "\n",
    "\n",
    "\n"
   ]
  }
 ],
 "metadata": {
  "kernelspec": {
   "display_name": "Python 3.10.5 64-bit",
   "language": "python",
   "name": "python3"
  },
  "language_info": {
   "codemirror_mode": {
    "name": "ipython",
    "version": 3
   },
   "file_extension": ".py",
   "mimetype": "text/x-python",
   "name": "python",
   "nbconvert_exporter": "python",
   "pygments_lexer": "ipython3",
   "version": "3.10.0"
  },
  "orig_nbformat": 4,
  "vscode": {
   "interpreter": {
    "hash": "5026d2d6e7aaaaba093def813beadff083d8733e4a511af01735cbabd156995d"
   }
  }
 },
 "nbformat": 4,
 "nbformat_minor": 2
}
