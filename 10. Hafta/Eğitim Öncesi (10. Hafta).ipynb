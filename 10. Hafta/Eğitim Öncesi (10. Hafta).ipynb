{
 "cells": [
  {
   "attachments": {},
   "cell_type": "markdown",
   "metadata": {},
   "source": [
    "# Problem 1"
   ]
  },
  {
   "cell_type": "code",
   "execution_count": 6,
   "metadata": {},
   "outputs": [
    {
     "name": "stdout",
     "output_type": "stream",
     "text": [
      "[[8, 8, 4, 5, 7], [10, 3, 9, 6, 6], [2, 8, 2, 5, 0], [10, 6, 7, 10, 7], [0, 1, 4, 2, 5]]\n",
      "Matris boyutu: 5 x 5\n",
      "[[ 2  9  6  3 10  4  3  4  1  5]\n",
      " [ 6  7  0  3  6  3 10  0  8  1]\n",
      " [ 4  8  4  5  0  2  9  6  3 10]]\n",
      "Matris boyutu: 3 x 10\n"
     ]
    }
   ],
   "source": [
    "# 1 - numpy kütüphanesini import edin\n",
    "import numpy as np\n",
    "\n",
    "# 2 - 0 ile 10 arasında 5 sayıdan oluşan matris üretin\n",
    "import random\n",
    "matris = [[random.randint(0, 10) for j in range(5)] for i in range(5)]\n",
    "print(matris)\n",
    "\n",
    "# 3 - matris'in boyutunu öğrenin\n",
    "matris = [[2, 9, 6, 3, 10], [4, 3, 4, 1, 5], [6, 7, 0, 3, 6], [3, 10, 0, 8, 1], [4, 8, 4, 5, 0]]\n",
    "satir_sayisi = len(matris)\n",
    "sutun_sayisi = len(matris[0])\n",
    "print(\"Matris boyutu:\", satir_sayisi, \"x\", sutun_sayisi)\n",
    "\n",
    "# 4 - matris'i yeniden boyutlandırın\n",
    "matris = [[2, 9, 6, 3, 10], [4, 3, 4, 1, 5], [6, 7, 0, 3, 6], [3, 10, 0, 8, 1], [4, 8, 4, 5, 0]]\n",
    "dizi = np.array(matris).flatten()\n",
    "yeniden_boyutlandirilmis_matris = np.resize(matris, (3, 10))\n",
    "print(yeniden_boyutlandirilmis_matris)\n",
    "\n",
    "# 5 - matris'in boyut sayısını öğrenin\n",
    "satir_sayisi = len(yeniden_boyutlandirilmis_matris)\n",
    "sutun_sayisi = len(yeniden_boyutlandirilmis_matris[0])\n",
    "print(\"Matris boyutu:\", satir_sayisi, \"x\", sutun_sayisi)"
   ]
  },
  {
   "attachments": {},
   "cell_type": "markdown",
   "metadata": {},
   "source": [
    "# Problem 2"
   ]
  },
  {
   "cell_type": "code",
   "execution_count": 9,
   "metadata": {},
   "outputs": [
    {
     "name": "stdout",
     "output_type": "stream",
     "text": [
      "[[1 3 5 7 9]\n",
      " [1 3 5 7 9]\n",
      " [1 3 5 7 9]\n",
      " [1 3 5 7 9]\n",
      " [1 3 5 7 9]]\n",
      "[[1 3 5 7 9]]\n",
      "[[1 3 5 7 9]]\n",
      "[[1 3 5 7 9]]\n",
      "[[1 3 5 7 9]]\n",
      "[[1 3 5 7 9]]\n",
      "[[1 3 5 7 9]\n",
      " [1 3 5 7 9]\n",
      " [1 3 5 7 9]\n",
      " [1 3 5 7 9]\n",
      " [1 3 5 7 9]]\n"
     ]
    }
   ],
   "source": [
    "# 1 - 0 ile 10 arasında bulunan tek sayılardan oluşan matris üretin\n",
    "matris = np.arange(1, 11, 2)\n",
    "matris = np.tile(matris, (5, 1))\n",
    "print(matris)\n",
    "\n",
    "# 2 - Oluşturduğunuz matrisi parçalayın\n",
    "matris = np.arange(1, 11, 2)\n",
    "matris = np.tile(matris, (5, 1))\n",
    "alt_matrisler = np.split(matris, 5)\n",
    "for alt_matris in alt_matrisler:\n",
    "    print(alt_matris)\n",
    "\n",
    "# 3 - Parçalanmış matrisleri birleştirin\n",
    "matris = np.arange(1, 11, 2)\n",
    "matris = np.tile(matris, (5, 1))\n",
    "alt_matrisler = np.split(matris, 5)\n",
    "birlesmis_matris = np.concatenate(alt_matrisler)\n",
    "print(birlesmis_matris)\n"
   ]
  },
  {
   "attachments": {},
   "cell_type": "markdown",
   "metadata": {},
   "source": [
    "# Problem 3"
   ]
  },
  {
   "cell_type": "code",
   "execution_count": 12,
   "metadata": {},
   "outputs": [
    {
     "name": "stdout",
     "output_type": "stream",
     "text": [
      "[[15 93 11 77 89]\n",
      " [91  5 99 75 83]]\n",
      "Matris boyutu: (5, 5)\n",
      "Matris eleman sayısı: 25\n",
      "Matris maksimum değeri: 40\n",
      "Matris minimum değeri: 20\n",
      "Matris ortalaması: 29.84\n",
      "Matris standart sapması: 6.643372637448542\n"
     ]
    }
   ],
   "source": [
    "# 1 - 5 ile 100 arasında ikişer ikişer atlayarak rastgele 10 sayıdan oluşan matris üretin\n",
    "matris = np.arange(5, 101, 2)\n",
    "np.random.shuffle(matris)\n",
    "matris = matris[:10]\n",
    "matris = matris.reshape(2, 5)\n",
    "print(matris)\n",
    "\n",
    "# 2 - matris'in özelliklerini inceleyin\n",
    "matris = np.array([[34, 40, 24, 38, 22],[20, 24, 22, 30, 36],[38, 40, 22, 30, 36],[28, 30, 36, 34, 22],[36, 34, 24, 20, 26]])\n",
    "boyut = matris.shape\n",
    "eleman_sayisi = matris.size\n",
    "maksimum = np.max(matris)\n",
    "minimum = np.min(matris)\n",
    "ortalamasi = np.mean(matris)\n",
    "standart_sapma = np.std(matris)\n",
    "print(\"Matris boyutu:\", boyut)\n",
    "print(\"Matris eleman sayısı:\", eleman_sayisi)\n",
    "print(\"Matris maksimum değeri:\", maksimum)\n",
    "print(\"Matris minimum değeri:\", minimum)\n",
    "print(\"Matris ortalaması:\", ortalamasi)\n",
    "print(\"Matris standart sapması:\", standart_sapma)\n"
   ]
  }
 ],
 "metadata": {
  "kernelspec": {
   "display_name": "Python 3",
   "language": "python",
   "name": "python3"
  },
  "language_info": {
   "codemirror_mode": {
    "name": "ipython",
    "version": 3
   },
   "file_extension": ".py",
   "mimetype": "text/x-python",
   "name": "python",
   "nbconvert_exporter": "python",
   "pygments_lexer": "ipython3",
   "version": "3.10.0"
  },
  "orig_nbformat": 4,
  "vscode": {
   "interpreter": {
    "hash": "5026d2d6e7aaaaba093def813beadff083d8733e4a511af01735cbabd156995d"
   }
  }
 },
 "nbformat": 4,
 "nbformat_minor": 2
}
